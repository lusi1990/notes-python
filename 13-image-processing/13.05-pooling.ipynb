{
 "cells": [
  {
   "cell_type": "code",
   "execution_count": 7,
   "metadata": {},
   "outputs": [],
   "source": [
    "import matplotlib.pyplot as plot\n",
    "import numpy as np\n",
    "import cv2\n",
    "%matplotlib inline"
   ]
  },
  {
   "cell_type": "markdown",
   "metadata": {},
   "source": [
    "# 池化操作"
   ]
  },
  {
   "cell_type": "markdown",
   "metadata": {},
   "source": [
    "将图片按照固定大小网格分割，网格内的像素值取网格内所有像素的平均值。\n",
    "\n",
    "我们将这种把图片使用均等大小网格分割，并求网格内代表值的操作称为**池化（Pooling）**。\n",
    "\n",
    "池化操作是**卷积神经网络（Convolutional Neural Network）**中重要的图像处理方式。"
   ]
  },
  {
   "cell_type": "markdown",
   "metadata": {},
   "source": [
    "### 请把大小为$128\\times128$的 `imori.jpg` 使用$8\\times8$的网格做池化\n",
    "![imori](./img/imori.jpg)\n"
   ]
  },
  {
   "cell_type": "markdown",
   "metadata": {
    "collapsed": true
   },
   "source": [
    "## 平均池化（Average Pooling）"
   ]
  },
  {
   "cell_type": "markdown",
   "metadata": {},
   "source": [
    "平均池化按照下式定义：\n",
    "$$\n",
    "v=\\frac{1}{|R|}\\  \\sum\\limits_{i=1}^R\\ v_i\n",
    "$$"
   ]
  },
  {
   "cell_type": "code",
   "execution_count": 8,
   "metadata": {},
   "outputs": [],
   "source": [
    "# average pooling\n",
    "def average_pooling(img, G=8):\n",
    "    out = img.copy()\n",
    "\n",
    "    H, W, C = img.shape\n",
    "    Nh = int(H / G)\n",
    "    Nw = int(W / G)\n",
    "\n",
    "    for y in range(Nh):\n",
    "        for x in range(Nw):\n",
    "            for c in range(C):\n",
    "                out[G * y:G * (y + 1), G * x:G * (x + 1), c] = np.mean(\n",
    "                    out[G * y:G * (y + 1), G * x:G * (x + 1), c]).astype(np.int)\n",
    "\n",
    "    return out"
   ]
  },
  {
   "cell_type": "code",
   "execution_count": 9,
   "metadata": {},
   "outputs": [],
   "source": [
    "img = cv2.imread(\"./img/imori.jpg\")\n",
    "\n",
    "# Average Pooling\n",
    "out = average_pooling(img)\n",
    "\n",
    "# Save result\n",
    "# cv2.imwrite(\"out.jpg\", out)\n",
    "cv2.imshow(\"result\", out)\n",
    "cv2.waitKey(0)\n",
    "cv2.destroyAllWindows()"
   ]
  },
  {
   "cell_type": "markdown",
   "metadata": {},
   "source": [
    "## 最大池化（Max Pooling）"
   ]
  },
  {
   "cell_type": "markdown",
   "metadata": {},
   "source": [
    "网格内的值不取平均值，而是取网格内的最大值进行池化操作。"
   ]
  },
  {
   "cell_type": "code",
   "execution_count": 11,
   "metadata": {},
   "outputs": [],
   "source": [
    "# max pooling\n",
    "def max_pooling(img, G=8):\n",
    "    # Max Pooling\n",
    "    out = img.copy()\n",
    "\n",
    "    H, W, C = img.shape\n",
    "    Nh = int(H / G)\n",
    "    Nw = int(W / G)\n",
    "\n",
    "    for y in range(Nh):\n",
    "        for x in range(Nw):\n",
    "            for c in range(C):\n",
    "                out[G * y:G * (y + 1), G * x:G * (x + 1), c] = np.max(out[G * y:G * (y + 1), G * x:G * (x + 1), c])\n",
    "\n",
    "    return out"
   ]
  },
  {
   "cell_type": "code",
   "execution_count": 13,
   "metadata": {},
   "outputs": [],
   "source": [
    "# Read image\n",
    "img = cv2.imread(\"./img/imori.jpg\")\n",
    "\n",
    "# Max pooling\n",
    "out = max_pooling(img)\n",
    "\n",
    "# Save result\n",
    "# cv2.imwrite(\"out.jpg\", out)\n",
    "cv2.imshow(\"result\", out)\n",
    "cv2.waitKey(0)\n",
    "cv2.destroyAllWindows()"
   ]
  }
 ],
 "metadata": {
  "kernelspec": {
   "display_name": "Python 3",
   "language": "python",
   "name": "python3"
  },
  "language_info": {
   "codemirror_mode": {
    "name": "ipython",
    "version": 3
   },
   "file_extension": ".py",
   "mimetype": "text/x-python",
   "name": "python",
   "nbconvert_exporter": "python",
   "pygments_lexer": "ipython3",
   "version": "3.8.8"
  }
 },
 "nbformat": 4,
 "nbformat_minor": 1
}
