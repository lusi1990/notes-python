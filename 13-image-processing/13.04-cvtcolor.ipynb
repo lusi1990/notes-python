{
 "cells": [
  {
   "cell_type": "markdown",
   "id": "baf4536b",
   "metadata": {},
   "source": [
    "# 简单图像处理"
   ]
  },
  {
   "cell_type": "markdown",
   "id": "89d889a4",
   "metadata": {},
   "source": [
    "## 色彩空间 todo http://www.1zlab.com/wiki/python-opencv-tutorial/opencv-intro-color-space/"
   ]
  },
  {
   "cell_type": "markdown",
   "id": "03f948ae",
   "metadata": {},
   "source": [
    "颜色空间 ColorSpace跟向量空间其实是一个东西. 举例RGB色彩空间, 我们用Red红色通道, Green绿色通道, Blue蓝色通道三个值来表示一个特定的色彩. 如果我们把颜色当作向量, 那所有向量的集合就是 色彩空间, 那RGB的色彩空间长成什么样呢?"
   ]
  },
  {
   "cell_type": "markdown",
   "id": "1321c0c4",
   "metadata": {},
   "source": [
    "就是这样的:\n",
    "!()[./img/]"
   ]
  },
  {
   "cell_type": "markdown",
   "id": "46b649c4",
   "metadata": {},
   "source": [
    "## 通道交换"
   ]
  },
  {
   "cell_type": "code",
   "execution_count": 1,
   "id": "71c6da83",
   "metadata": {},
   "outputs": [],
   "source": [
    "## todo 演示 pillow rgb to bgr ,然后cv2.show()"
   ]
  },
  {
   "cell_type": "markdown",
   "id": "04f1cc66",
   "metadata": {},
   "source": [
    "## HSV变换"
   ]
  },
  {
   "cell_type": "markdown",
   "id": "45c66d76",
   "metadata": {},
   "source": [
    "## 灰度化（Grayscale）"
   ]
  },
  {
   "cell_type": "markdown",
   "id": "b1a884b8",
   "metadata": {},
   "source": [
    "## 二值化（Thresholding）"
   ]
  },
  {
   "cell_type": "markdown",
   "id": "9308f7c1",
   "metadata": {},
   "source": [
    "## 大津二值化算法（Otsu's Method）"
   ]
  },
  {
   "cell_type": "markdown",
   "id": "1ac12448",
   "metadata": {},
   "source": [
    "## 减色处理"
   ]
  },
  {
   "cell_type": "markdown",
   "id": "a60539d1",
   "metadata": {},
   "source": [
    "## 平均池化（Average Pooling）"
   ]
  },
  {
   "cell_type": "markdown",
   "id": "13442625",
   "metadata": {},
   "source": [
    "## 最大池化（Max Pooling）"
   ]
  }
 ],
 "metadata": {
  "kernelspec": {
   "display_name": "Python 3",
   "language": "python",
   "name": "python3"
  },
  "language_info": {
   "codemirror_mode": {
    "name": "ipython",
    "version": 3
   },
   "file_extension": ".py",
   "mimetype": "text/x-python",
   "name": "python",
   "nbconvert_exporter": "python",
   "pygments_lexer": "ipython3",
   "version": "3.8.8"
  }
 },
 "nbformat": 4,
 "nbformat_minor": 5
}
