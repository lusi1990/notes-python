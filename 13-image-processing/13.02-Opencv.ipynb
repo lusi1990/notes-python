{
 "cells": [
  {
   "cell_type": "code",
   "execution_count": 1,
   "id": "4bf0ebeb",
   "metadata": {},
   "outputs": [],
   "source": [
    "import matplotlib.pyplot as plot\n",
    "import numpy as np\n",
    "%matplotlib inline"
   ]
  },
  {
   "cell_type": "markdown",
   "id": "0df1f40e",
   "metadata": {},
   "source": [
    "# Opencv 简介"
   ]
  },
  {
   "cell_type": "markdown",
   "id": "2ea18e70",
   "metadata": {},
   "source": [
    "## OpenCV开发环境配置"
   ]
  },
  {
   "cell_type": "markdown",
   "id": "9077e333",
   "metadata": {},
   "source": [
    "做科学计算需要安装下面的一些工具包\n",
    "```shell\n",
    "pip install jupyter numpy scipy matplotlib\n",
    "```\n",
    "安装 OpenCV \n",
    "```shell\n",
    "pip install opencv-python\n",
    "```"
   ]
  },
  {
   "cell_type": "code",
   "execution_count": null,
   "id": "278ed9f7",
   "metadata": {},
   "outputs": [],
   "source": []
  }
 ],
 "metadata": {
  "kernelspec": {
   "display_name": "Python 3",
   "language": "python",
   "name": "python3"
  },
  "language_info": {
   "codemirror_mode": {
    "name": "ipython",
    "version": 3
   },
   "file_extension": ".py",
   "mimetype": "text/x-python",
   "name": "python",
   "nbconvert_exporter": "python",
   "pygments_lexer": "ipython3",
   "version": "3.8.8"
  }
 },
 "nbformat": 4,
 "nbformat_minor": 5
}
