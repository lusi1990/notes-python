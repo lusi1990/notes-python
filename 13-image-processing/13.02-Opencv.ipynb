{
 "cells": [
  {
   "cell_type": "code",
   "execution_count": 1,
   "id": "cfa7ab9f",
   "metadata": {},
   "outputs": [],
   "source": [
    "import matplotlib.pyplot as plot\n",
    "import numpy as np\n",
    "%matplotlib inline"
   ]
  },
  {
   "cell_type": "markdown",
   "id": "48911668",
   "metadata": {},
   "source": [
    "# Opencv 简介"
   ]
  },
  {
   "cell_type": "markdown",
   "id": "dcfb5cad",
   "metadata": {},
   "source": [
    "OpenCV(`Open Source Computer Vision Library`) 是一个基于BSD许可（开源）发行的跨平台计算机视觉库，可以运行在Linux、Windows、Android和Mac OS操作系统上。OpenCV于1999年由Intel建立，如今由Willow Garage提供支持。它轻量级而且高效——由一系列 C 函数和少量 C++ 类构成，同时提供了Python、Ruby、MATLAB等语言的接口，实现了图像处理和计算机视觉方面的很多通用算法。\n",
    "  OpenCV致力于真实世界的实时应用，通过优化的C代码的编写对其执行速度带来了可观的提升，并且可以通过购买Intel的IPP高性能多媒体函数库(Integrated Performance Primitives)得到更快的处理速度。OpenCV在以下领域有着广泛的应用。\n",
    "\n",
    "    1、人机互动  2、物体识别  3、图像分割  4、人脸识别\n",
    "    5、动作识别  6、运动跟踪  7、机器人  8、运动分析\n",
    "    9、机器视觉  10、结构分析  11、汽车安全驾驶\n",
    "\n",
    "OpenCV-Python 是 OpenCV 的 Python API，集成了 Python 语言和 C++ 语言的最优特征，致力于支持Python解决计算机视觉问题。"
   ]
  },
  {
   "cell_type": "markdown",
   "id": "349b1c9e",
   "metadata": {},
   "source": [
    "## OpenCV开发环境配置"
   ]
  },
  {
   "cell_type": "markdown",
   "id": "6acc84d8",
   "metadata": {},
   "source": [
    "做科学计算需要安装下面的一些工具包\n",
    "```shell\n",
    "pip install jupyter numpy scipy matplotlib\n",
    "```\n",
    "安装 OpenCV \n",
    "```shell\n",
    "pip install OpenCV-Python\n",
    "```"
   ]
  },
  {
   "cell_type": "markdown",
   "id": "db99a500",
   "metadata": {},
   "source": [
    "## 导入 cv2"
   ]
  },
  {
   "cell_type": "markdown",
   "id": "def2350b",
   "metadata": {},
   "source": [
    "OpenCV-Python 在 python 中的包名称叫做 cv2\n",
    "```shell\n",
    ">>> import cv2\n",
    "```"
   ]
  },
  {
   "cell_type": "code",
   "execution_count": 3,
   "id": "21eaf4ac",
   "metadata": {},
   "outputs": [
    {
     "data": {
      "text/plain": [
       "'4.5.1'"
      ]
     },
     "execution_count": 3,
     "metadata": {},
     "output_type": "execute_result"
    }
   ],
   "source": [
    "import cv2\n",
    "cv2.__version__"
   ]
  },
  {
   "cell_type": "markdown",
   "id": "ced04f6e",
   "metadata": {},
   "source": [
    "## 读入图片"
   ]
  },
  {
   "cell_type": "markdown",
   "id": "1a32ee2b",
   "metadata": {},
   "source": [
    "我们读入一张图片的时候, 使用的是 cv2.imread 函数, 传入的第一个参数是图片的路径. "
   ]
  },
  {
   "cell_type": "code",
   "execution_count": 5,
   "id": "235a2cab",
   "metadata": {},
   "outputs": [],
   "source": [
    "img = cv2.imread('./img/cat.jpg')"
   ]
  },
  {
   "cell_type": "markdown",
   "id": "3a881eb8",
   "metadata": {},
   "source": [
    "help(cv2.imread)"
   ]
  },
  {
   "cell_type": "markdown",
   "id": "f8a4e455",
   "metadata": {},
   "source": [
    "### 导入RBG彩图 还是是 灰度图?"
   ]
  },
  {
   "cell_type": "markdown",
   "id": "2e039c57",
   "metadata": {},
   "source": [
    "第二个参数是图像颜色空间, 默认就是BGR彩图 cv2.IMREAD_COLOR\n",
    "\n",
    "上面这个语句跟下面作用是一样的."
   ]
  },
  {
   "cell_type": "code",
   "execution_count": 7,
   "id": "5885a9cc",
   "metadata": {},
   "outputs": [],
   "source": [
    "# 导入一张图像 模式为彩色图片\n",
    "img_color = cv2.imread('cat.jpg', cv2.IMREAD_COLOR)\n",
    "\n",
    "# 如果你想导入灰度图, 就需要传入 cv2.IMREAD_GRAYSCALE\n",
    "\n",
    "img_gray = cv2.imread('cat.jpg', cv2.IMREAD_GRAYSCALE)"
   ]
  },
  {
   "cell_type": "markdown",
   "id": "aeb9904e",
   "metadata": {},
   "source": [
    "## 显示图片"
   ]
  },
  {
   "cell_type": "markdown",
   "id": "32bdf2ef",
   "metadata": {},
   "source": [
    "opencv 中在窗口展示图片需要用到 HighGUI 中的 API。"
   ]
  },
  {
   "cell_type": "code",
   "execution_count": 1,
   "id": "a693800c",
   "metadata": {},
   "outputs": [],
   "source": [
    "# 创建窗口并展示图片\n",
    "cv2.imshow('image', img)\n",
    "# 等待任意一个按键按下\n",
    "cv2.waitKey(0)\n",
    "# 关闭所有的窗口\n",
    "cv2.destroyAllWindows()"
   ]
  },
  {
   "cell_type": "markdown",
   "id": "446977d5",
   "metadata": {},
   "source": [
    "## 图像属性"
   ]
  },
  {
   "cell_type": "markdown",
   "id": "618a5417",
   "metadata": {},
   "source": [
    "Image的属性,其实就是 numpy 的 ndarray 数据格式的属性.\n",
    "\n",
    "我们可以直接获取img对象的诸多属性, 在这里我们将其打印出来."
   ]
  },
  {
   "cell_type": "code",
   "execution_count": 3,
   "id": "d75227df",
   "metadata": {},
   "outputs": [
    {
     "name": "stdout",
     "output_type": "stream",
     "text": [
      "================打印一下图像的属性================\n",
      "图像对象的类型 <class 'numpy.ndarray'>\n",
      "(182, 277, 3)\n",
      "图像宽度: 277 pixels\n",
      "图像高度: 182 pixels\n",
      "通道: 3\n",
      "图像分辨率: 151242\n",
      "数据类型: uint8\n"
     ]
    }
   ],
   "source": [
    "# 导入一张图像 模式为彩色图片\n",
    "print(\"================打印一下图像的属性================\")\n",
    "print(\"图像对象的类型 {}\".format(type(img)))\n",
    "print(img.shape)\n",
    "print(\"图像宽度: {} pixels\".format(img.shape[1]))\n",
    "print(\"图像高度: {} pixels\".format(img.shape[0]))\n",
    "print(\"通道: {}\".format(img.shape[2]))\n",
    "print(\"图像分辨率: {}\".format(img.size))\n",
    "print(\"数据类型: {}\".format(img.dtype))"
   ]
  },
  {
   "cell_type": "markdown",
   "id": "b6960429",
   "metadata": {},
   "source": [
    "## 番外篇-为何是BGR不是RGB"
   ]
  },
  {
   "cell_type": "markdown",
   "id": "863c56f5",
   "metadata": {},
   "source": [
    "我们当下普遍使用的是 RGB 格式, 但是为什么 cv2 返回的数据结构是 BGR 格式的呢?\n",
    "\n",
    "早前windows下, 不管是摄像头制造者 ,还是软件开发者, 当时流行的都是 BGR 格式的数据结构. 后面 RBG 格式才逐渐流行, 所以这个是 opencv 在发展过程中的历史遗留问题. "
   ]
  }
 ],
 "metadata": {
  "kernelspec": {
   "display_name": "Python 3",
   "language": "python",
   "name": "python3"
  },
  "language_info": {
   "codemirror_mode": {
    "name": "ipython",
    "version": 3
   },
   "file_extension": ".py",
   "mimetype": "text/x-python",
   "name": "python",
   "nbconvert_exporter": "python",
   "pygments_lexer": "ipython3",
   "version": "3.8.8"
  }
 },
 "nbformat": 4,
 "nbformat_minor": 5
}
