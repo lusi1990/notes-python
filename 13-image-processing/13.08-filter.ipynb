{
 "cells": [
  {
   "cell_type": "markdown",
   "id": "79e022a9",
   "metadata": {},
   "source": [
    "# 滤波器"
   ]
  },
  {
   "cell_type": "code",
   "execution_count": null,
   "id": "be81f811",
   "metadata": {},
   "outputs": [],
   "source": []
  }
 ],
 "metadata": {
  "kernelspec": {
   "display_name": "Python 3",
   "language": "python",
   "name": "python3"
  },
  "language_info": {
   "codemirror_mode": {
    "name": "ipython",
    "version": 3
   },
   "file_extension": ".py",
   "mimetype": "text/x-python",
   "name": "python",
   "nbconvert_exporter": "python",
   "pygments_lexer": "ipython3",
   "version": "3.8.8"
  }
 },
 "nbformat": 4,
 "nbformat_minor": 5
}
