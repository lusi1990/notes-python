{
 "cells": [
  {
   "cell_type": "markdown",
   "id": "da9ff162",
   "metadata": {},
   "source": [
    "# 图像的数据结构"
   ]
  },
  {
   "cell_type": "markdown",
   "id": "15c84e24",
   "metadata": {},
   "source": [
    "opencv图像读取(imread) 读入的数据格式是 numpy 的 ndarray 数据格式. \n",
    "\n",
    "下面是以 BGR 格式为例介绍 Image 的数据结构.\n",
    "\n",
    "![image-data-sturcture](./img/image-data-sturcture.png)\n",
    "\n",
    "第一维度 : Height 高度, 对应这张图片的 nRow行数\n",
    "\n",
    "第二维度 : Width 宽度, 对应这张图片的nCol 列数\n",
    "\n",
    "第三维度: Value BGR三通道的值.\n",
    "\n",
    "BGR 分别代表\n",
    "\n",
    "B: Blue 蓝色\n",
    "\n",
    "G: Green 绿色\n",
    "\n",
    "R: Red 红色\n",
    "![flower-rgb-3channel](./img/flower-rgb-3channel.jpg)"
   ]
  },
  {
   "cell_type": "code",
   "execution_count": 5,
   "id": "5df12c91",
   "metadata": {},
   "outputs": [
    {
     "data": {
      "text/plain": [
       "array([[[206, 218, 228],\n",
       "        [206, 218, 228],\n",
       "        [206, 218, 228],\n",
       "        [206, 218, 228],\n",
       "        [204, 216, 226]],\n",
       "\n",
       "       [[205, 217, 227],\n",
       "        [205, 217, 227],\n",
       "        [205, 217, 227],\n",
       "        [205, 217, 227],\n",
       "        [203, 215, 225]],\n",
       "\n",
       "       [[204, 216, 228],\n",
       "        [204, 216, 228],\n",
       "        [204, 216, 228],\n",
       "        [204, 216, 228],\n",
       "        [203, 215, 227]],\n",
       "\n",
       "       [[204, 216, 228],\n",
       "        [204, 216, 228],\n",
       "        [204, 216, 228],\n",
       "        [204, 216, 228],\n",
       "        [203, 215, 227]],\n",
       "\n",
       "       [[197, 210, 224],\n",
       "        [198, 211, 225],\n",
       "        [199, 212, 226],\n",
       "        [199, 212, 226],\n",
       "        [200, 213, 227]]], dtype=uint8)"
      ]
     },
     "execution_count": 5,
     "metadata": {},
     "output_type": "execute_result"
    }
   ],
   "source": [
    "import cv2\n",
    "img = cv2.imread('./img/cat.jpg')\n",
    "img[100:105, 100:105]"
   ]
  },
  {
   "cell_type": "code",
   "execution_count": null,
   "id": "62050168",
   "metadata": {},
   "outputs": [],
   "source": []
  }
 ],
 "metadata": {
  "kernelspec": {
   "display_name": "Python 3",
   "language": "python",
   "name": "python3"
  },
  "language_info": {
   "codemirror_mode": {
    "name": "ipython",
    "version": 3
   },
   "file_extension": ".py",
   "mimetype": "text/x-python",
   "name": "python",
   "nbconvert_exporter": "python",
   "pygments_lexer": "ipython3",
   "version": "3.8.8"
  }
 },
 "nbformat": 4,
 "nbformat_minor": 5
}
