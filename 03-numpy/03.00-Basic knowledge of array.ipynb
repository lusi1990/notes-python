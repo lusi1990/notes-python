{
 "cells": [
  {
   "cell_type": "markdown",
   "id": "9a603c0f",
   "metadata": {},
   "source": [
    "# 数组基础知识"
   ]
  },
  {
   "cell_type": "markdown",
   "id": "fc69aab3",
   "metadata": {},
   "source": [
    "## 定义\n",
    "\n",
    "数组是相同类型的数据元素的索引集合。\n",
    "1）索引表示对数组元素进行编号（从0开始）。\n",
    "2）相同类型的限制很重要，因为数组存储在连续的存储单元中。每个单元必须具有相同的类型（因此，必须具有相同的大小）。"
   ]
  }
 ],
 "metadata": {
  "kernelspec": {
   "display_name": "Python 3",
   "language": "python",
   "name": "python3"
  },
  "language_info": {
   "codemirror_mode": {
    "name": "ipython",
    "version": 3
   },
   "file_extension": ".py",
   "mimetype": "text/x-python",
   "name": "python",
   "nbconvert_exporter": "python",
   "pygments_lexer": "ipython3",
   "version": "3.8.8"
  }
 },
 "nbformat": 4,
 "nbformat_minor": 5
}
