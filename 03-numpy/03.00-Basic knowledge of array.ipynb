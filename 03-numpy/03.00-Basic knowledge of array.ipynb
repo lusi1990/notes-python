{
 "cells": [
  {
   "cell_type": "markdown",
   "id": "212807e4",
   "metadata": {},
   "source": [
    "# 数组基础知识"
   ]
  },
  {
   "cell_type": "markdown",
   "id": "11e7efde",
   "metadata": {},
   "source": [
    "## 定义\n",
    "\n",
    "数组是相同类型的数据元素的索引集合。\n",
    "\n",
    "1）索引表示对数组元素进行编号（从0开始）。\n",
    "\n",
    "2）相同类型的限制很重要，因为数组存储在连续的存储单元中。每个单元必须具有相同的类型（因此，必须具有相同的大小）。"
   ]
  },
  {
   "cell_type": "markdown",
   "id": "8c5838da",
   "metadata": {},
   "source": [
    "## 例子"
   ]
  },
  {
   "cell_type": "markdown",
   "id": "72f4e74f",
   "metadata": {},
   "source": [
    "在程序中，经常需要对一批数据进行操作，例如，统计某个公司100个员工的平均工资。如果使用变量来存放这些数据，就需要定义100个变量，显然这样做很麻烦，而且很容易出错。这时，可以使用X[0]、X[1]、X[2]、…、X[99]表示这100个变量，并通过方括号中的数字来对这100个变量进行区分。\n",
    "在程序设计中，使用X[0]、X[1]、X[2]、…、X[99]表示的一组具有相同数据类型的变量集合称为数组X，数组中的每一项称为数组的元素,每个元素都有对应的下标(n)，用于表示元素在数组中的位置序号，该下标是从0开始的。\n",
    "\n",
    "为了大家更好地理解数组，接下来，通过一张图来描述数组X[10]的元素分配情况。\n",
    "\n",
    "![array_image](./img/array_example.jpg)"
   ]
  },
  {
   "cell_type": "markdown",
   "id": "e6af5cef",
   "metadata": {},
   "source": [
    "从图中可以看出，数组X包含10个元素，并且这些元素是按照下标的顺序进行排列的。由于数组元素的下标是从0开始的，因此，数组X的最后一个元素为X[9]。\n",
    "\n",
    "需要注意的是，根据数据的复杂度,数组下标的个数是不确定的。通常情况下，数组元素下标的个数也称为维数，根据维数的不同，可将数组分为一维数组、二维数组、三维数组、四维数组等。通常情况下，我们将二维及以上的数组称为多维数组。"
   ]
  },
  {
   "cell_type": "markdown",
   "id": "dc16af87",
   "metadata": {},
   "source": [
    "二维数组，对应于數學上的矩陣概念，可表示為二維矩形格。例如：\\begin{bmatrix}3&6&2\\\\0&1&-4\\\\2&-1&0\\end{bmatrix}在C语言中表示為int a[3][3] = {{3, 6, 2}, {0, 1, -4}, {2, -1, 0}};"
   ]
  },
  {
   "cell_type": "code",
   "execution_count": null,
   "id": "50be2fc0",
   "metadata": {},
   "outputs": [],
   "source": []
  }
 ],
 "metadata": {
  "kernelspec": {
   "display_name": "Python 3",
   "language": "python",
   "name": "python3"
  },
  "language_info": {
   "codemirror_mode": {
    "name": "ipython",
    "version": 3
   },
   "file_extension": ".py",
   "mimetype": "text/x-python",
   "name": "python",
   "nbconvert_exporter": "python",
   "pygments_lexer": "ipython3",
   "version": "3.8.8"
  }
 },
 "nbformat": 4,
 "nbformat_minor": 5
}
