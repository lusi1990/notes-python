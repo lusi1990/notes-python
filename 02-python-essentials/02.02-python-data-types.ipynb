{
 "cells": [
  {
   "cell_type": "markdown",
   "metadata": {},
   "source": [
    "# Python 数据类型"
   ]
  },
  {
   "cell_type": "markdown",
   "metadata": {},
   "source": [
    "标准数据类型\n",
    "\n",
    "* Number（数字）\n",
    "* String（字符串）\n",
    "* List（列表）\n",
    "* Tuple（元组）\n",
    "* Set（集合）\n",
    "* Dictionary（字典）\n",
    "\n",
    "Python3 的六个标准数据类型中：\n",
    "\n",
    "* 不可变数据（3 个）：Number（数字）、String（字符串）、Tuple（元组）；\n",
    "* 可变数据（3 个）：List（列表）、Dictionary（字典）、Set（集合）。 "
   ]
  },
  {
   "cell_type": "markdown",
   "metadata": {},
   "source": [
    "### 常用数据类型 Common Data Types"
   ]
  },
  {
   "cell_type": "markdown",
   "metadata": {},
   "source": [
    "| 类型| 例子|\n",
    "| -----  | ----- |\n",
    "| 整数 | `-100` |\n",
    "| 浮点数 | `3.1416` |\n",
    "| 字符串 | `'hello'` |\n",
    "| 布尔型 | `True, False` |\n",
    "| 列表 | `[1, 1.2, 'hello']` |\n",
    "| 元组 | `('ring', 1000)` |\n",
    "| 字典 | `{'dogs': 5, 'pigs': 3}`|\n",
    "| 集合 | `{1, 2, 3}` |\n",
    "| 自定义 | `Object Oriented Classes` |\n",
    "| Pandas类型| `DataFrame, Series` |\n",
    "| Numpy数组 | `array([1, 2, 3])`|"
   ]
  }
 ],
 "metadata": {
  "kernelspec": {
   "display_name": "Python 3",
   "language": "python",
   "name": "python3"
  },
  "language_info": {
   "codemirror_mode": {
    "name": "ipython",
    "version": 3
   },
   "file_extension": ".py",
   "mimetype": "text/x-python",
   "name": "python",
   "nbconvert_exporter": "python",
   "pygments_lexer": "ipython3",
   "version": "3.8.8"
  }
 },
 "nbformat": 4,
 "nbformat_minor": 1
}
